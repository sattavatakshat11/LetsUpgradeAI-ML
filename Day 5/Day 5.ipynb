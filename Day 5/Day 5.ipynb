{
 "cells": [
  {
   "cell_type": "markdown",
   "metadata": {},
   "source": [
    "### Q.1"
   ]
  },
  {
   "cell_type": "code",
   "execution_count": 35,
   "metadata": {},
   "outputs": [],
   "source": [
    "### Declare a variable for counting 20\n",
    "\n",
    "a = 0\n",
    "li = []\n",
    "\n",
    "for i in range(2,100):\n",
    "    for j in range(2,i):\n",
    "        if i % j == 0:\n",
    "            break\n",
    "        else:\n",
    "            a+=1\n",
    "            if a <= 20:\n",
    "                li.append(i)\n",
    "                break\n",
    "           "
   ]
  },
  {
   "cell_type": "code",
   "execution_count": 37,
   "metadata": {},
   "outputs": [
    {
     "name": "stdout",
     "output_type": "stream",
     "text": [
      "[3, 5, 7, 9, 11, 13, 15, 17, 19, 21, 23, 25, 27, 29, 31, 33, 35, 37, 39, 41]\n",
      "\n",
      "\n",
      "20\n"
     ]
    }
   ],
   "source": [
    "print(li)\n",
    "print(\"\\n\")\n",
    "print(len(li))"
   ]
  },
  {
   "cell_type": "markdown",
   "metadata": {},
   "source": [
    "### Q.2"
   ]
  },
  {
   "cell_type": "code",
   "execution_count": 51,
   "metadata": {},
   "outputs": [
    {
     "name": "stdout",
     "output_type": "stream",
     "text": [
      "10\n",
      "  AKSHAT  \n",
      "  akshat  \n",
      "  akshat  \n",
      "  Akshjt  \n",
      "  Akshat  \n",
      "False\n",
      "False\n",
      "  akshat  \n",
      "Akshat\n",
      "  Akshat\n",
      "Akshat  \n"
     ]
    }
   ],
   "source": [
    "a = \"  Akshat  \"\n",
    "\n",
    "print(len(a))\n",
    "print(a.upper())\n",
    "print(a.lower())\n",
    "print(a.capitalize())\n",
    "print(a.replace(\"a\",\"j\"))\n",
    "print(a.title())\n",
    "print(a.startswith(\"A\"))\n",
    "print(a.endswith(\"t\"))\n",
    "print(a.casefold())\n",
    "print(a.strip())\n",
    "print(a.rstrip())\n",
    "print(a.lstrip())"
   ]
  },
  {
   "cell_type": "markdown",
   "metadata": {},
   "source": [
    "### Q.3"
   ]
  },
  {
   "cell_type": "code",
   "execution_count": 61,
   "metadata": {},
   "outputs": [
    {
     "name": "stdout",
     "output_type": "stream",
     "text": [
      "1. To Check whether string is palindrome or not\n",
      "2. To check for the anagram string\n",
      "Enter your input1\n",
      "Input your string to check for palindromemadam\n",
      "Checking\n",
      "String is palindrome\n"
     ]
    }
   ],
   "source": [
    "print(\"1. To Check whether string is palindrome or not\")\n",
    "print(\"2. To check for the anagram string\")\n",
    "user = int(input(\"Enter your input\"))\n",
    "\n",
    "def palindrome(a):\n",
    "    a = str(a).lower()\n",
    "    b = a[::-1]\n",
    "    if a == b:\n",
    "        print(\"String is palindrome\")\n",
    "    else:\n",
    "        print(\"String is not palindrome\")\n",
    "\n",
    "def anagram(a,b):\n",
    "    a = str(a).lower()\n",
    "    b = str(b).lower()\n",
    "    li1 = \"\".join(sorted(a))\n",
    "    li2 = \"\".join(sorted(b))\n",
    "    if li1 == li2 :\n",
    "        print(\"String is Anagram\")\n",
    "    else:\n",
    "        print(\"String is not anagram\")\n",
    "        \n",
    "if user == 1:\n",
    "    string = input(\"Input your string to check for palindrome\")\n",
    "    print(\"Checking\")\n",
    "    palindrome(string)\n",
    "else:\n",
    "    string1 = input(\"Input your string1 to check for anagram\")\n",
    "    string2 = input(\"Input your string2 to check for anagram\")\n",
    "    print(\"Checking\")\n",
    "    anagram(string1,string2)\n",
    "    "
   ]
  },
  {
   "cell_type": "markdown",
   "metadata": {},
   "source": [
    "### Q.4"
   ]
  },
  {
   "cell_type": "code",
   "execution_count": 74,
   "metadata": {},
   "outputs": [
    {
     "name": "stdout",
     "output_type": "stream",
     "text": [
      "Enter your stringakshat jain @ 11 @!! Dr.\n",
      "akshatjain11Dr\n"
     ]
    }
   ],
   "source": [
    "a = input(\"Enter your string\")\n",
    "b = \"\"\n",
    "for i in a :\n",
    "    if i.isalnum():\n",
    "        b  += i\n",
    "print(b)"
   ]
  },
  {
   "cell_type": "code",
   "execution_count": null,
   "metadata": {},
   "outputs": [],
   "source": []
  }
 ],
 "metadata": {
  "kernelspec": {
   "display_name": "Python 3",
   "language": "python",
   "name": "python3"
  },
  "language_info": {
   "codemirror_mode": {
    "name": "ipython",
    "version": 3
   },
   "file_extension": ".py",
   "mimetype": "text/x-python",
   "name": "python",
   "nbconvert_exporter": "python",
   "pygments_lexer": "ipython3",
   "version": "3.8.5"
  }
 },
 "nbformat": 4,
 "nbformat_minor": 4
}
