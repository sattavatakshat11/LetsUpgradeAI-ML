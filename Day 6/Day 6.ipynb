{
 "cells": [
  {
   "cell_type": "markdown",
   "metadata": {},
   "source": [
    "### Q.1"
   ]
  },
  {
   "cell_type": "code",
   "execution_count": 10,
   "metadata": {},
   "outputs": [
    {
     "name": "stdout",
     "output_type": "stream",
     "text": [
      " Enter your Mail Address sattavat.akshat@gmail.com\n",
      "gmail\n"
     ]
    }
   ],
   "source": [
    "a = input(\"Enter your Mail Address \")\n",
    "\n",
    "b=a.split(\"@\")\n",
    "\n",
    "c = b[1]\n",
    "\n",
    "d = c.split(\".\")\n",
    "\n",
    "e = d[0]\n",
    "\n",
    "print(e)"
   ]
  },
  {
   "cell_type": "markdown",
   "metadata": {},
   "source": [
    "### Q.2"
   ]
  },
  {
   "cell_type": "code",
   "execution_count": 13,
   "metadata": {},
   "outputs": [
    {
     "name": "stdout",
     "output_type": "stream",
     "text": [
      "Enter Comma seperated value!bag,akshat,viral,keval,hey\n",
      "akshat, bag, hey, keval, viral\n"
     ]
    }
   ],
   "source": [
    "user =  input(\"Enter Comma seperated value!\")\n",
    "li = user.split(\",\")\n",
    "final = \", \".join(sorted(li))\n",
    "print(final)\n"
   ]
  },
  {
   "cell_type": "markdown",
   "metadata": {},
   "source": [
    "### Q.4"
   ]
  },
  {
   "cell_type": "code",
   "execution_count": 33,
   "metadata": {},
   "outputs": [
    {
     "name": "stdout",
     "output_type": "stream",
     "text": [
      "Enter the number with the commas1,3,6,7,8\n",
      "2\n",
      "4\n",
      "5\n"
     ]
    }
   ],
   "source": [
    "li = input(\"Enter the number with the commas\").split(\",\")\n",
    "\n",
    "maximum = int(max(li))\n",
    "minimum = int(min(li))\n",
    "\n",
    "for i in range(minimum,maximum):\n",
    "    if str(i) in li:\n",
    "        pass\n",
    "        \n",
    "    else:\n",
    "        print(i)\n"
   ]
  },
  {
   "cell_type": "markdown",
   "metadata": {},
   "source": [
    "### Q.5"
   ]
  },
  {
   "cell_type": "code",
   "execution_count": 35,
   "metadata": {},
   "outputs": [
    {
     "name": "stdout",
     "output_type": "stream",
     "text": [
      "Enter the number with comma seperated values1,2,2,3,4,4,5\n",
      "['1', '2', '3', '4', '5']\n"
     ]
    }
   ],
   "source": [
    "li = input(\"Enter the number with comma seperated values\").split(\",\")\n",
    "sett = set(li)\n",
    "print(sorted(sett))"
   ]
  },
  {
   "cell_type": "code",
   "execution_count": null,
   "metadata": {},
   "outputs": [],
   "source": []
  }
 ],
 "metadata": {
  "kernelspec": {
   "display_name": "Python 3",
   "language": "python",
   "name": "python3"
  },
  "language_info": {
   "codemirror_mode": {
    "name": "ipython",
    "version": 3
   },
   "file_extension": ".py",
   "mimetype": "text/x-python",
   "name": "python",
   "nbconvert_exporter": "python",
   "pygments_lexer": "ipython3",
   "version": "3.8.5"
  }
 },
 "nbformat": 4,
 "nbformat_minor": 4
}
